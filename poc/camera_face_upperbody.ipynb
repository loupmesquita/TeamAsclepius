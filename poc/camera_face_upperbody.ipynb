{
 "cells": [
  {
   "cell_type": "code",
   "execution_count": 2,
   "metadata": {},
   "outputs": [],
   "source": [
    "import cv2 as cv\n",
    "import numpy as np"
   ]
  },
  {
   "cell_type": "code",
   "execution_count": 11,
   "metadata": {},
   "outputs": [],
   "source": [
    "\n",
    "cap = cv.VideoCapture(0)\n",
    "\n",
    "tm = cv.TickMeter()\n",
    "\n",
    "upper_cascade = cv.CascadeClassifier('haarcascade_upperbody.xml')\n",
    "face_cascade = cv.CascadeClassifier('haarcascade_frontalface_default.xml')\n",
    "\n",
    "while cv.waitKey(5) < 0:\n",
    "    _, frame = cap.read()\n",
    "\n",
    "    dim = (int(frame.shape[1] / 2), int(frame.shape[0] / 2))\n",
    "\n",
    "    resized = cv.resize(frame, dim, interpolation=cv.INTER_AREA)\n",
    "\n",
    "    gray = cv.cvtColor(resized, cv.COLOR_BGR2GRAY)\n",
    "\n",
    "    faces = face_cascade.detectMultiScale(gray, 1.1, 4)\n",
    "\n",
    "    uppers = upper_cascade.detectMultiScale(gray, 1.1, 4)\n",
    "\n",
    "    for (x, y, w, h) in faces:\n",
    "        cv.rectangle(resized, (x, y), (x+w, y+h), (255, 0, 0), 2)\n",
    "\n",
    "    for (x, y, w, h) in uppers:\n",
    "        cv.rectangle(resized, (x, y), (x+w, y+h), (0, 255, 0), 2)\n",
    "\n",
    "    cv.imshow(\"Allo\", resized)\n",
    "\n",
    "cap.release()\n",
    "cv.destroyAllWindows()\n"
   ]
  }
 ],
 "metadata": {
  "kernelspec": {
   "display_name": "Python 3.8.10 64-bit",
   "language": "python",
   "name": "python3"
  },
  "language_info": {
   "codemirror_mode": {
    "name": "ipython",
    "version": 3
   },
   "file_extension": ".py",
   "mimetype": "text/x-python",
   "name": "python",
   "nbconvert_exporter": "python",
   "pygments_lexer": "ipython3",
   "version": "3.8.10"
  },
  "orig_nbformat": 4,
  "vscode": {
   "interpreter": {
    "hash": "916dbcbb3f70747c44a77c7bcd40155683ae19c65e1c03b4aa3499c5328201f1"
   }
  }
 },
 "nbformat": 4,
 "nbformat_minor": 2
}
